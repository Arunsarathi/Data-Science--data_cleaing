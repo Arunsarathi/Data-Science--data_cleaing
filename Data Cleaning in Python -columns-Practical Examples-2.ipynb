{
 "cells": [
  {
   "cell_type": "code",
   "execution_count": 3,
   "metadata": {},
   "outputs": [
    {
     "data": {
      "text/html": [
       "<div>\n",
       "<style scoped>\n",
       "    .dataframe tbody tr th:only-of-type {\n",
       "        vertical-align: middle;\n",
       "    }\n",
       "\n",
       "    .dataframe tbody tr th {\n",
       "        vertical-align: top;\n",
       "    }\n",
       "\n",
       "    .dataframe thead th {\n",
       "        text-align: right;\n",
       "    }\n",
       "</style>\n",
       "<table border=\"1\" class=\"dataframe\">\n",
       "  <thead>\n",
       "    <tr style=\"text-align: right;\">\n",
       "      <th></th>\n",
       "      <th>First Name</th>\n",
       "      <th>Last name</th>\n",
       "      <th>Age</th>\n",
       "      <th>SALARY</th>\n",
       "      <th>STREET Address1</th>\n",
       "      <th>STREET Address2</th>\n",
       "      <th>STREET Address3</th>\n",
       "      <th>email</th>\n",
       "    </tr>\n",
       "  </thead>\n",
       "  <tbody>\n",
       "    <tr>\n",
       "      <th>0</th>\n",
       "      <td>Joel</td>\n",
       "      <td>Padilla</td>\n",
       "      <td>10/28/2019</td>\n",
       "      <td>$92.32</td>\n",
       "      <td>431-6530 Eu, Rd.</td>\n",
       "      <td>364-2264 Augue Rd.</td>\n",
       "      <td>P.O. Box 864, 3882 Orci Street</td>\n",
       "      <td>eu@nibh.com</td>\n",
       "    </tr>\n",
       "    <tr>\n",
       "      <th>1</th>\n",
       "      <td>Fritz</td>\n",
       "      <td>Tyler</td>\n",
       "      <td>09/27/2019</td>\n",
       "      <td>$83.91</td>\n",
       "      <td>Ap #377-2267 Ac Av.</td>\n",
       "      <td>979-2228 Vel Ave</td>\n",
       "      <td>9865 Eu Av.</td>\n",
       "      <td>est.ac.mattis@malesuadafringilla.net</td>\n",
       "    </tr>\n",
       "    <tr>\n",
       "      <th>2</th>\n",
       "      <td>Wing</td>\n",
       "      <td>Phelps</td>\n",
       "      <td>02/18/2019</td>\n",
       "      <td>$17.15</td>\n",
       "      <td>Ap #545-5786 Pulvinar Ave</td>\n",
       "      <td>Ap #973-5781 Sagittis Avenue</td>\n",
       "      <td>9959 Ut St.</td>\n",
       "      <td>dolor@cubilia.net</td>\n",
       "    </tr>\n",
       "    <tr>\n",
       "      <th>3</th>\n",
       "      <td>Ryan</td>\n",
       "      <td>Ross</td>\n",
       "      <td>05/21/2019</td>\n",
       "      <td>$45.97</td>\n",
       "      <td>634-7858 Id Road</td>\n",
       "      <td>907-8824 Fringilla Ave</td>\n",
       "      <td>318-5271 In Ave</td>\n",
       "      <td>interdum.libero.dui@vitaeerat.com</td>\n",
       "    </tr>\n",
       "    <tr>\n",
       "      <th>4</th>\n",
       "      <td>Drake</td>\n",
       "      <td>Day</td>\n",
       "      <td>01/09/2020</td>\n",
       "      <td>$84.38</td>\n",
       "      <td>999-8221 Tempor, St.</td>\n",
       "      <td>297-6939 Turpis. Ave</td>\n",
       "      <td>P.O. Box 638, 6932 Laoreet Rd.</td>\n",
       "      <td>nulla.Integer.vulputate@liberoat.ca</td>\n",
       "    </tr>\n",
       "  </tbody>\n",
       "</table>\n",
       "</div>"
      ],
      "text/plain": [
       "  First Name Last name         Age  SALARY            STREET Address1  \\\n",
       "0       Joel   Padilla  10/28/2019  $92.32           431-6530 Eu, Rd.   \n",
       "1      Fritz     Tyler  09/27/2019  $83.91        Ap #377-2267 Ac Av.   \n",
       "2       Wing    Phelps  02/18/2019  $17.15  Ap #545-5786 Pulvinar Ave   \n",
       "3       Ryan      Ross  05/21/2019  $45.97           634-7858 Id Road   \n",
       "4      Drake       Day  01/09/2020  $84.38       999-8221 Tempor, St.   \n",
       "\n",
       "                STREET Address2                 STREET Address3  \\\n",
       "0            364-2264 Augue Rd.  P.O. Box 864, 3882 Orci Street   \n",
       "1              979-2228 Vel Ave                     9865 Eu Av.   \n",
       "2  Ap #973-5781 Sagittis Avenue                     9959 Ut St.   \n",
       "3        907-8824 Fringilla Ave                 318-5271 In Ave   \n",
       "4          297-6939 Turpis. Ave  P.O. Box 638, 6932 Laoreet Rd.   \n",
       "\n",
       "                                  email  \n",
       "0                           eu@nibh.com  \n",
       "1  est.ac.mattis@malesuadafringilla.net  \n",
       "2                     dolor@cubilia.net  \n",
       "3     interdum.libero.dui@vitaeerat.com  \n",
       "4   nulla.Integer.vulputate@liberoat.ca  "
      ]
     },
     "execution_count": 3,
     "metadata": {},
     "output_type": "execute_result"
    }
   ],
   "source": [
    "import pandas as pd\n",
    "\n",
    "df = pd.read_csv(\"raw_dataset.csv\")\n",
    "df.head()"
   ]
  },
  {
   "cell_type": "code",
   "execution_count": 7,
   "metadata": {},
   "outputs": [
    {
     "data": {
      "text/plain": [
       "Index(['First Name', 'Last name', 'Age', 'SALARY', 'STREET Address1',\n",
       "       'STREET Address2', 'STREET Address3', 'email'],\n",
       "      dtype='object')"
      ]
     },
     "execution_count": 7,
     "metadata": {},
     "output_type": "execute_result"
    }
   ],
   "source": [
    "df.columns"
   ]
  },
  {
   "cell_type": "code",
   "execution_count": 4,
   "metadata": {},
   "outputs": [
    {
     "data": {
      "text/plain": [
       "['T',\n",
       " '__abs__',\n",
       " '__add__',\n",
       " '__and__',\n",
       " '__array__',\n",
       " '__array_priority__',\n",
       " '__array_wrap__',\n",
       " '__bool__',\n",
       " '__class__',\n",
       " '__contains__',\n",
       " '__copy__',\n",
       " '__deepcopy__',\n",
       " '__delattr__',\n",
       " '__dict__',\n",
       " '__dir__',\n",
       " '__divmod__',\n",
       " '__doc__',\n",
       " '__eq__',\n",
       " '__floordiv__',\n",
       " '__format__',\n",
       " '__ge__',\n",
       " '__getattribute__',\n",
       " '__getitem__',\n",
       " '__gt__',\n",
       " '__hash__',\n",
       " '__iadd__',\n",
       " '__init__',\n",
       " '__init_subclass__',\n",
       " '__inv__',\n",
       " '__iter__',\n",
       " '__le__',\n",
       " '__len__',\n",
       " '__lt__',\n",
       " '__mod__',\n",
       " '__module__',\n",
       " '__mul__',\n",
       " '__ne__',\n",
       " '__neg__',\n",
       " '__new__',\n",
       " '__nonzero__',\n",
       " '__or__',\n",
       " '__pos__',\n",
       " '__pow__',\n",
       " '__radd__',\n",
       " '__reduce__',\n",
       " '__reduce_ex__',\n",
       " '__repr__',\n",
       " '__rfloordiv__',\n",
       " '__rmul__',\n",
       " '__rpow__',\n",
       " '__rsub__',\n",
       " '__rtruediv__',\n",
       " '__setattr__',\n",
       " '__setitem__',\n",
       " '__setstate__',\n",
       " '__sizeof__',\n",
       " '__str__',\n",
       " '__sub__',\n",
       " '__subclasshook__',\n",
       " '__truediv__',\n",
       " '__weakref__',\n",
       " '__xor__',\n",
       " '_accessors',\n",
       " '_add_comparison_methods',\n",
       " '_add_logical_methods',\n",
       " '_add_logical_methods_disabled',\n",
       " '_add_numeric_methods',\n",
       " '_add_numeric_methods_add_sub_disabled',\n",
       " '_add_numeric_methods_binary',\n",
       " '_add_numeric_methods_disabled',\n",
       " '_add_numeric_methods_unary',\n",
       " '_assert_can_do_op',\n",
       " '_assert_can_do_setop',\n",
       " '_assert_take_fillable',\n",
       " '_attributes',\n",
       " '_can_hold_identifiers_and_holds_name',\n",
       " '_can_hold_na',\n",
       " '_can_reindex',\n",
       " '_cleanup',\n",
       " '_coerce_scalar_to_index',\n",
       " '_coerce_to_ndarray',\n",
       " '_comparables',\n",
       " '_concat',\n",
       " '_concat_same_dtype',\n",
       " '_constructor',\n",
       " '_convert_arr_indexer',\n",
       " '_convert_can_do_setop',\n",
       " '_convert_for_op',\n",
       " '_convert_index_indexer',\n",
       " '_convert_list_indexer',\n",
       " '_convert_listlike_indexer',\n",
       " '_convert_scalar_indexer',\n",
       " '_convert_slice_indexer',\n",
       " '_convert_tolerance',\n",
       " '_data',\n",
       " '_defer_to_indexing',\n",
       " '_deprecations',\n",
       " '_dir_additions',\n",
       " '_dir_deletions',\n",
       " '_engine',\n",
       " '_engine_type',\n",
       " '_evaluate_with_datetime_like',\n",
       " '_evaluate_with_timedelta_like',\n",
       " '_filter_indexer_tolerance',\n",
       " '_format_attrs',\n",
       " '_format_data',\n",
       " '_format_native_types',\n",
       " '_format_space',\n",
       " '_format_with_header',\n",
       " '_formatter_func',\n",
       " '_get_attributes_dict',\n",
       " '_get_fill_indexer',\n",
       " '_get_fill_indexer_searchsorted',\n",
       " '_get_grouper_for_level',\n",
       " '_get_level_number',\n",
       " '_get_level_values',\n",
       " '_get_names',\n",
       " '_get_nearest_indexer',\n",
       " '_get_reconciled_name_object',\n",
       " '_get_string_slice',\n",
       " '_get_unique_index',\n",
       " '_has_complex_internals',\n",
       " '_id',\n",
       " '_infer_as_myclass',\n",
       " '_inner_indexer',\n",
       " '_internal_get_values',\n",
       " '_invalid_indexer',\n",
       " '_is_compatible_with_other',\n",
       " '_is_homogeneous_type',\n",
       " '_is_memory_usage_qualified',\n",
       " '_is_numeric_dtype',\n",
       " '_is_strictly_monotonic_decreasing',\n",
       " '_is_strictly_monotonic_increasing',\n",
       " '_isnan',\n",
       " '_join_level',\n",
       " '_join_monotonic',\n",
       " '_join_multi',\n",
       " '_join_non_unique',\n",
       " '_join_precedence',\n",
       " '_left_indexer',\n",
       " '_left_indexer_unique',\n",
       " '_map_values',\n",
       " '_maybe_cast_indexer',\n",
       " '_maybe_cast_slice_bound',\n",
       " '_maybe_promote',\n",
       " '_maybe_update_attributes',\n",
       " '_mpl_repr',\n",
       " '_na_value',\n",
       " '_nan_idxs',\n",
       " '_ndarray_values',\n",
       " '_outer_indexer',\n",
       " '_reduce',\n",
       " '_reindex_non_unique',\n",
       " '_reset_cache',\n",
       " '_reset_identity',\n",
       " '_scalar_data_error',\n",
       " '_searchsorted_monotonic',\n",
       " '_set_names',\n",
       " '_shallow_copy',\n",
       " '_shallow_copy_with_infer',\n",
       " '_simple_new',\n",
       " '_sort_levels_monotonic',\n",
       " '_string_data_error',\n",
       " '_summary',\n",
       " '_supports_partial_string_indexing',\n",
       " '_to_safe_for_reshape',\n",
       " '_try_convert_to_int_index',\n",
       " '_typ',\n",
       " '_union',\n",
       " '_union_incompatible_dtypes',\n",
       " '_unpickle_compat',\n",
       " '_update_inplace',\n",
       " '_validate_for_numeric_binop',\n",
       " '_validate_for_numeric_unaryop',\n",
       " '_validate_index_level',\n",
       " '_validate_indexer',\n",
       " '_validate_names',\n",
       " '_validate_sort_keyword',\n",
       " '_values',\n",
       " '_wrap_joined_index',\n",
       " '_wrap_setop_result',\n",
       " 'all',\n",
       " 'any',\n",
       " 'append',\n",
       " 'argmax',\n",
       " 'argmin',\n",
       " 'argsort',\n",
       " 'array',\n",
       " 'asi8',\n",
       " 'asof',\n",
       " 'asof_locs',\n",
       " 'astype',\n",
       " 'contains',\n",
       " 'copy',\n",
       " 'delete',\n",
       " 'difference',\n",
       " 'drop',\n",
       " 'drop_duplicates',\n",
       " 'droplevel',\n",
       " 'dropna',\n",
       " 'dtype',\n",
       " 'duplicated',\n",
       " 'empty',\n",
       " 'equals',\n",
       " 'factorize',\n",
       " 'fillna',\n",
       " 'format',\n",
       " 'get_duplicates',\n",
       " 'get_indexer',\n",
       " 'get_indexer_for',\n",
       " 'get_indexer_non_unique',\n",
       " 'get_level_values',\n",
       " 'get_loc',\n",
       " 'get_slice_bound',\n",
       " 'get_value',\n",
       " 'get_values',\n",
       " 'groupby',\n",
       " 'has_duplicates',\n",
       " 'hasnans',\n",
       " 'holds_integer',\n",
       " 'identical',\n",
       " 'inferred_type',\n",
       " 'insert',\n",
       " 'intersection',\n",
       " 'is_',\n",
       " 'is_all_dates',\n",
       " 'is_boolean',\n",
       " 'is_categorical',\n",
       " 'is_floating',\n",
       " 'is_integer',\n",
       " 'is_interval',\n",
       " 'is_lexsorted_for_tuple',\n",
       " 'is_mixed',\n",
       " 'is_monotonic',\n",
       " 'is_monotonic_decreasing',\n",
       " 'is_monotonic_increasing',\n",
       " 'is_numeric',\n",
       " 'is_object',\n",
       " 'is_type_compatible',\n",
       " 'is_unique',\n",
       " 'isin',\n",
       " 'isna',\n",
       " 'isnull',\n",
       " 'item',\n",
       " 'join',\n",
       " 'map',\n",
       " 'max',\n",
       " 'memory_usage',\n",
       " 'min',\n",
       " 'name',\n",
       " 'names',\n",
       " 'nbytes',\n",
       " 'ndim',\n",
       " 'nlevels',\n",
       " 'notna',\n",
       " 'notnull',\n",
       " 'nunique',\n",
       " 'putmask',\n",
       " 'ravel',\n",
       " 'reindex',\n",
       " 'rename',\n",
       " 'repeat',\n",
       " 'searchsorted',\n",
       " 'set_names',\n",
       " 'set_value',\n",
       " 'shape',\n",
       " 'shift',\n",
       " 'size',\n",
       " 'slice_indexer',\n",
       " 'slice_locs',\n",
       " 'sort',\n",
       " 'sort_values',\n",
       " 'sortlevel',\n",
       " 'str',\n",
       " 'summary',\n",
       " 'symmetric_difference',\n",
       " 'take',\n",
       " 'to_flat_index',\n",
       " 'to_frame',\n",
       " 'to_list',\n",
       " 'to_native_types',\n",
       " 'to_numpy',\n",
       " 'to_series',\n",
       " 'transpose',\n",
       " 'union',\n",
       " 'unique',\n",
       " 'value_counts',\n",
       " 'values',\n",
       " 'view',\n",
       " 'where']"
      ]
     },
     "execution_count": 4,
     "metadata": {},
     "output_type": "execute_result"
    }
   ],
   "source": [
    "## Features of Columns\n",
    "dir(df.columns)"
   ]
  },
  {
   "cell_type": "code",
   "execution_count": 8,
   "metadata": {},
   "outputs": [
    {
     "data": {
      "text/plain": [
       "array(['First Name', 'Last name', 'Age', 'SALARY', 'STREET Address1',\n",
       "       'STREET Address2', 'STREET Address3', 'email'], dtype=object)"
      ]
     },
     "execution_count": 8,
     "metadata": {},
     "output_type": "execute_result"
    }
   ],
   "source": [
    "df.columns.values\n",
    "\n",
    "# columns get array of values"
   ]
  },
  {
   "cell_type": "code",
   "execution_count": 9,
   "metadata": {},
   "outputs": [
    {
     "data": {
      "text/plain": [
       "['First Name',\n",
       " 'Last name',\n",
       " 'Age',\n",
       " 'SALARY',\n",
       " 'STREET Address1',\n",
       " 'STREET Address2',\n",
       " 'STREET Address3',\n",
       " 'email']"
      ]
     },
     "execution_count": 9,
     "metadata": {},
     "output_type": "execute_result"
    }
   ],
   "source": [
    "# get list\n",
    "\n",
    "df.columns.tolist()"
   ]
  },
  {
   "cell_type": "code",
   "execution_count": 10,
   "metadata": {},
   "outputs": [
    {
     "data": {
      "text/plain": [
       "Index(['First Name', 'Last name', 'Age', 'SALARY', 'STREET Address1',\n",
       "       'STREET Address2', 'STREET Address3', 'email'],\n",
       "      dtype='object')"
      ]
     },
     "execution_count": 10,
     "metadata": {},
     "output_type": "execute_result"
    }
   ],
   "source": [
    "### To View Columns Names\n",
    "df.columns.view()"
   ]
  },
  {
   "cell_type": "code",
   "execution_count": 11,
   "metadata": {},
   "outputs": [
    {
     "name": "stderr",
     "output_type": "stream",
     "text": [
      "C:\\Users\\ASUS\\anaconda3\\lib\\site-packages\\ipykernel_launcher.py:2: FutureWarning: 'summary' is deprecated and will be removed in a future version.\n",
      "  \n"
     ]
    },
    {
     "data": {
      "text/plain": [
       "'Index: 8 entries, First Name to email'"
      ]
     },
     "execution_count": 11,
     "metadata": {},
     "output_type": "execute_result"
    }
   ],
   "source": [
    "### To View Columns summary\n",
    "df.columns.summary()"
   ]
  },
  {
   "cell_type": "code",
   "execution_count": 12,
   "metadata": {},
   "outputs": [
    {
     "data": {
      "text/plain": [
       "First Name              First Name\n",
       "Last name                Last name\n",
       "Age                            Age\n",
       "SALARY                      SALARY\n",
       "STREET Address1    STREET Address1\n",
       "STREET Address2    STREET Address2\n",
       "STREET Address3    STREET Address3\n",
       "email                        email\n",
       "dtype: object"
      ]
     },
     "execution_count": 12,
     "metadata": {},
     "output_type": "execute_result"
    }
   ],
   "source": [
    "# Convert the Column Names To Series/ DataFrame\n",
    "df.columns.to_series()"
   ]
  },
  {
   "cell_type": "code",
   "execution_count": 13,
   "metadata": {},
   "outputs": [
    {
     "data": {
      "text/html": [
       "<div>\n",
       "<style scoped>\n",
       "    .dataframe tbody tr th:only-of-type {\n",
       "        vertical-align: middle;\n",
       "    }\n",
       "\n",
       "    .dataframe tbody tr th {\n",
       "        vertical-align: top;\n",
       "    }\n",
       "\n",
       "    .dataframe thead th {\n",
       "        text-align: right;\n",
       "    }\n",
       "</style>\n",
       "<table border=\"1\" class=\"dataframe\">\n",
       "  <thead>\n",
       "    <tr style=\"text-align: right;\">\n",
       "      <th></th>\n",
       "      <th>0</th>\n",
       "    </tr>\n",
       "  </thead>\n",
       "  <tbody>\n",
       "    <tr>\n",
       "      <th>First Name</th>\n",
       "      <td>First Name</td>\n",
       "    </tr>\n",
       "    <tr>\n",
       "      <th>Last name</th>\n",
       "      <td>Last name</td>\n",
       "    </tr>\n",
       "    <tr>\n",
       "      <th>Age</th>\n",
       "      <td>Age</td>\n",
       "    </tr>\n",
       "    <tr>\n",
       "      <th>SALARY</th>\n",
       "      <td>SALARY</td>\n",
       "    </tr>\n",
       "    <tr>\n",
       "      <th>STREET Address1</th>\n",
       "      <td>STREET Address1</td>\n",
       "    </tr>\n",
       "    <tr>\n",
       "      <th>STREET Address2</th>\n",
       "      <td>STREET Address2</td>\n",
       "    </tr>\n",
       "    <tr>\n",
       "      <th>STREET Address3</th>\n",
       "      <td>STREET Address3</td>\n",
       "    </tr>\n",
       "    <tr>\n",
       "      <th>email</th>\n",
       "      <td>email</td>\n",
       "    </tr>\n",
       "  </tbody>\n",
       "</table>\n",
       "</div>"
      ],
      "text/plain": [
       "                               0\n",
       "First Name            First Name\n",
       "Last name              Last name\n",
       "Age                          Age\n",
       "SALARY                    SALARY\n",
       "STREET Address1  STREET Address1\n",
       "STREET Address2  STREET Address2\n",
       "STREET Address3  STREET Address3\n",
       "email                      email"
      ]
     },
     "execution_count": 13,
     "metadata": {},
     "output_type": "execute_result"
    }
   ],
   "source": [
    "# Convert the Column Names To DataFrame\n",
    "df.columns.to_frame()"
   ]
  },
  {
   "cell_type": "code",
   "execution_count": 14,
   "metadata": {},
   "outputs": [
    {
     "name": "stderr",
     "output_type": "stream",
     "text": [
      "C:\\Users\\ASUS\\anaconda3\\lib\\site-packages\\ipykernel_launcher.py:2: FutureWarning: The 'contains' method is deprecated and will be removed in a future version. Use 'key in index' instead of 'index.contains(key)'\n",
      "  \n"
     ]
    },
    {
     "data": {
      "text/plain": [
       "True"
      ]
     },
     "execution_count": 14,
     "metadata": {},
     "output_type": "execute_result"
    }
   ],
   "source": [
    "# Check to see if column names contains\n",
    "df.columns.contains('First Name')"
   ]
  },
  {
   "cell_type": "code",
   "execution_count": 15,
   "metadata": {},
   "outputs": [
    {
     "data": {
      "text/plain": [
       "array([False, False, False, False, False, False, False, False])"
      ]
     },
     "execution_count": 15,
     "metadata": {},
     "output_type": "execute_result"
    }
   ],
   "source": [
    "df.columns.duplicated()"
   ]
  },
  {
   "cell_type": "code",
   "execution_count": 16,
   "metadata": {},
   "outputs": [
    {
     "data": {
      "text/plain": [
       "Index(['First Name', 'Last Name', 'Age', 'Salary', 'Street Address1',\n",
       "       'Street Address2', 'Street Address3', 'Email'],\n",
       "      dtype='object')"
      ]
     },
     "execution_count": 16,
     "metadata": {},
     "output_type": "execute_result"
    }
   ],
   "source": [
    "### Making Column Name Title Case\n",
    "df.columns.str.title()"
   ]
  },
  {
   "cell_type": "code",
   "execution_count": 18,
   "metadata": {},
   "outputs": [
    {
     "data": {
      "text/plain": [
       "Index(['First_Name', 'Last_name', 'Age', 'SALARY', 'STREET_Address1',\n",
       "       'STREET_Address2', 'STREET_Address3', 'email'],\n",
       "      dtype='object')"
      ]
     },
     "execution_count": 18,
     "metadata": {},
     "output_type": "execute_result"
    }
   ],
   "source": [
    "### Replacing Empty spaces with underscore\n",
    "df.columns.str.replace(' ','_')"
   ]
  },
  {
   "cell_type": "code",
   "execution_count": 20,
   "metadata": {},
   "outputs": [],
   "source": [
    "### Renaming Column Name\n",
    "df.rename(columns={'Age':'Date of Birth'},inplace=True)"
   ]
  },
  {
   "cell_type": "code",
   "execution_count": 21,
   "metadata": {},
   "outputs": [
    {
     "data": {
      "text/plain": [
       "Index(['First Name', 'Last name', 'Date of Birth', 'SALARY', 'STREET Address1',\n",
       "       'STREET Address2', 'STREET Address3', 'email'],\n",
       "      dtype='object')"
      ]
     },
     "execution_count": 21,
     "metadata": {},
     "output_type": "execute_result"
    }
   ],
   "source": [
    "df.columns"
   ]
  },
  {
   "cell_type": "code",
   "execution_count": 22,
   "metadata": {},
   "outputs": [
    {
     "data": {
      "text/plain": [
       "8"
      ]
     },
     "execution_count": 22,
     "metadata": {},
     "output_type": "execute_result"
    }
   ],
   "source": [
    "len(df.columns.values)"
   ]
  },
  {
   "cell_type": "code",
   "execution_count": 23,
   "metadata": {},
   "outputs": [
    {
     "data": {
      "text/plain": [
       "'STREET Address1'"
      ]
     },
     "execution_count": 23,
     "metadata": {},
     "output_type": "execute_result"
    }
   ],
   "source": [
    "df.columns.values[4]"
   ]
  },
  {
   "cell_type": "code",
   "execution_count": 24,
   "metadata": {},
   "outputs": [
    {
     "data": {
      "text/plain": [
       "'email'"
      ]
     },
     "execution_count": 24,
     "metadata": {},
     "output_type": "execute_result"
    }
   ],
   "source": [
    "df.columns.values[-1]"
   ]
  },
  {
   "cell_type": "code",
   "execution_count": 25,
   "metadata": {},
   "outputs": [
    {
     "data": {
      "text/plain": [
       "Index(['First Name', 'Last name', 'Date of Birth', 'STREET Address1',\n",
       "       'STREET Address2', 'STREET Address3', 'email'],\n",
       "      dtype='object')"
      ]
     },
     "execution_count": 25,
     "metadata": {},
     "output_type": "execute_result"
    }
   ],
   "source": [
    "### Selecting All Columns Except One\n",
    "df.columns[df.columns != 'SALARY']"
   ]
  },
  {
   "cell_type": "code",
   "execution_count": 28,
   "metadata": {},
   "outputs": [
    {
     "data": {
      "text/plain": [
       "Index(['Date of Birth', 'First Name', 'Last name', 'STREET Address1',\n",
       "       'STREET Address2', 'STREET Address3', 'email'],\n",
       "      dtype='object')"
      ]
     },
     "execution_count": 28,
     "metadata": {},
     "output_type": "execute_result"
    }
   ],
   "source": [
    "### Selecting All Columns Except One\n",
    "df.columns.difference(['SALARY'])"
   ]
  },
  {
   "cell_type": "code",
   "execution_count": 27,
   "metadata": {},
   "outputs": [
    {
     "data": {
      "text/plain": [
       "Index(['First Name', 'Last name', 'Date of Birth', 'STREET Address1',\n",
       "       'STREET Address2', 'STREET Address3', 'email'],\n",
       "      dtype='object')"
      ]
     },
     "execution_count": 27,
     "metadata": {},
     "output_type": "execute_result"
    }
   ],
   "source": [
    "### Selecting All Columns Except One\n",
    "df.iloc[:,df.columns != 'SALARY'].columns"
   ]
  },
  {
   "cell_type": "code",
   "execution_count": 29,
   "metadata": {},
   "outputs": [
    {
     "data": {
      "text/html": [
       "<div>\n",
       "<style scoped>\n",
       "    .dataframe tbody tr th:only-of-type {\n",
       "        vertical-align: middle;\n",
       "    }\n",
       "\n",
       "    .dataframe tbody tr th {\n",
       "        vertical-align: top;\n",
       "    }\n",
       "\n",
       "    .dataframe thead th {\n",
       "        text-align: right;\n",
       "    }\n",
       "</style>\n",
       "<table border=\"1\" class=\"dataframe\">\n",
       "  <thead>\n",
       "    <tr style=\"text-align: right;\">\n",
       "      <th></th>\n",
       "      <th>STREET Address1</th>\n",
       "      <th>STREET Address2</th>\n",
       "      <th>STREET Address3</th>\n",
       "    </tr>\n",
       "  </thead>\n",
       "  <tbody>\n",
       "    <tr>\n",
       "      <th>0</th>\n",
       "      <td>431-6530 Eu, Rd.</td>\n",
       "      <td>364-2264 Augue Rd.</td>\n",
       "      <td>P.O. Box 864, 3882 Orci Street</td>\n",
       "    </tr>\n",
       "    <tr>\n",
       "      <th>1</th>\n",
       "      <td>Ap #377-2267 Ac Av.</td>\n",
       "      <td>979-2228 Vel Ave</td>\n",
       "      <td>9865 Eu Av.</td>\n",
       "    </tr>\n",
       "    <tr>\n",
       "      <th>2</th>\n",
       "      <td>Ap #545-5786 Pulvinar Ave</td>\n",
       "      <td>Ap #973-5781 Sagittis Avenue</td>\n",
       "      <td>9959 Ut St.</td>\n",
       "    </tr>\n",
       "    <tr>\n",
       "      <th>3</th>\n",
       "      <td>634-7858 Id Road</td>\n",
       "      <td>907-8824 Fringilla Ave</td>\n",
       "      <td>318-5271 In Ave</td>\n",
       "    </tr>\n",
       "    <tr>\n",
       "      <th>4</th>\n",
       "      <td>999-8221 Tempor, St.</td>\n",
       "      <td>297-6939 Turpis. Ave</td>\n",
       "      <td>P.O. Box 638, 6932 Laoreet Rd.</td>\n",
       "    </tr>\n",
       "    <tr>\n",
       "      <th>...</th>\n",
       "      <td>...</td>\n",
       "      <td>...</td>\n",
       "      <td>...</td>\n",
       "    </tr>\n",
       "    <tr>\n",
       "      <th>95</th>\n",
       "      <td>4034 Vitae St.</td>\n",
       "      <td>P.O. Box 930, 1683 Eu Rd.</td>\n",
       "      <td>P.O. Box 181, 3360 Mus. Rd.</td>\n",
       "    </tr>\n",
       "    <tr>\n",
       "      <th>96</th>\n",
       "      <td>1434 Aliquet, Street</td>\n",
       "      <td>956-6627 Nunc Av.</td>\n",
       "      <td>Ap #727-6109 Sapien. Av.</td>\n",
       "    </tr>\n",
       "    <tr>\n",
       "      <th>97</th>\n",
       "      <td>Ap #173-7049 Eget, St.</td>\n",
       "      <td>Ap #620-2512 Ut Street</td>\n",
       "      <td>8768 Aenean St.</td>\n",
       "    </tr>\n",
       "    <tr>\n",
       "      <th>98</th>\n",
       "      <td>Ap #371-9803 Aliquam Rd.</td>\n",
       "      <td>8892 Euismod Street</td>\n",
       "      <td>Ap #201-659 Libero. Street</td>\n",
       "    </tr>\n",
       "    <tr>\n",
       "      <th>99</th>\n",
       "      <td>Ap #375-1139 Risus. Road</td>\n",
       "      <td>7259 Duis Avenue</td>\n",
       "      <td>955-4058 Maecenas St.</td>\n",
       "    </tr>\n",
       "  </tbody>\n",
       "</table>\n",
       "<p>100 rows × 3 columns</p>\n",
       "</div>"
      ],
      "text/plain": [
       "              STREET Address1               STREET Address2  \\\n",
       "0            431-6530 Eu, Rd.            364-2264 Augue Rd.   \n",
       "1         Ap #377-2267 Ac Av.              979-2228 Vel Ave   \n",
       "2   Ap #545-5786 Pulvinar Ave  Ap #973-5781 Sagittis Avenue   \n",
       "3            634-7858 Id Road        907-8824 Fringilla Ave   \n",
       "4        999-8221 Tempor, St.          297-6939 Turpis. Ave   \n",
       "..                        ...                           ...   \n",
       "95             4034 Vitae St.     P.O. Box 930, 1683 Eu Rd.   \n",
       "96       1434 Aliquet, Street             956-6627 Nunc Av.   \n",
       "97     Ap #173-7049 Eget, St.        Ap #620-2512 Ut Street   \n",
       "98   Ap #371-9803 Aliquam Rd.           8892 Euismod Street   \n",
       "99   Ap #375-1139 Risus. Road              7259 Duis Avenue   \n",
       "\n",
       "                   STREET Address3  \n",
       "0   P.O. Box 864, 3882 Orci Street  \n",
       "1                      9865 Eu Av.  \n",
       "2                      9959 Ut St.  \n",
       "3                  318-5271 In Ave  \n",
       "4   P.O. Box 638, 6932 Laoreet Rd.  \n",
       "..                             ...  \n",
       "95     P.O. Box 181, 3360 Mus. Rd.  \n",
       "96        Ap #727-6109 Sapien. Av.  \n",
       "97                 8768 Aenean St.  \n",
       "98      Ap #201-659 Libero. Street  \n",
       "99           955-4058 Maecenas St.  \n",
       "\n",
       "[100 rows x 3 columns]"
      ]
     },
     "execution_count": 29,
     "metadata": {},
     "output_type": "execute_result"
    }
   ],
   "source": [
    "### Select Column Names that Begins with a Word or Character\n",
    "df.filter(like='STREET')"
   ]
  },
  {
   "cell_type": "code",
   "execution_count": 31,
   "metadata": {},
   "outputs": [
    {
     "data": {
      "text/plain": [
       "Index(['STREET Address1', 'STREET Address2', 'STREET Address3'], dtype='object')"
      ]
     },
     "execution_count": 31,
     "metadata": {},
     "output_type": "execute_result"
    }
   ],
   "source": [
    "### Select Column Names that Begins with a Word or Character\n",
    "df.filter(like='STREET').columns"
   ]
  },
  {
   "cell_type": "code",
   "execution_count": 33,
   "metadata": {},
   "outputs": [
    {
     "data": {
      "text/plain": [
       "Index(['STREET Address1', 'STREET Address2', 'STREET Address3'], dtype='object')"
      ]
     },
     "execution_count": 33,
     "metadata": {},
     "output_type": "execute_result"
    }
   ],
   "source": [
    "### Select Column Names that Begins with a Word or Character\n",
    "df.loc[:,df.columns.str.startswith('STREET')].columns"
   ]
  },
  {
   "cell_type": "code",
   "execution_count": 34,
   "metadata": {},
   "outputs": [
    {
     "data": {
      "text/plain": [
       "Index(['First Name', 'Last name'], dtype='object')"
      ]
     },
     "execution_count": 34,
     "metadata": {},
     "output_type": "execute_result"
    }
   ],
   "source": [
    "### Select Column Names that Begins with a Word or Character\n",
    "df.loc[:,df.columns.str.endswith('ame')].columns"
   ]
  },
  {
   "cell_type": "code",
   "execution_count": 38,
   "metadata": {},
   "outputs": [
    {
     "data": {
      "text/plain": [
       "Index(['First Name', 'Last name'], dtype='object')"
      ]
     },
     "execution_count": 38,
     "metadata": {},
     "output_type": "execute_result"
    }
   ],
   "source": [
    "df.filter(regex='ame$',axis=1).columns"
   ]
  },
  {
   "cell_type": "code",
   "execution_count": 39,
   "metadata": {},
   "outputs": [
    {
     "data": {
      "text/plain": [
       "Index(['First Name', 'Last name', 'Date of Birth', 'SALARY'], dtype='object')"
      ]
     },
     "execution_count": 39,
     "metadata": {},
     "output_type": "execute_result"
    }
   ],
   "source": [
    "### Select A Group of Column Names\n",
    "df.columns[0:4]"
   ]
  },
  {
   "cell_type": "code",
   "execution_count": null,
   "metadata": {},
   "outputs": [],
   "source": []
  }
 ],
 "metadata": {
  "kernelspec": {
   "display_name": "Python 3",
   "language": "python",
   "name": "python3"
  },
  "language_info": {
   "codemirror_mode": {
    "name": "ipython",
    "version": 3
   },
   "file_extension": ".py",
   "mimetype": "text/x-python",
   "name": "python",
   "nbconvert_exporter": "python",
   "pygments_lexer": "ipython3",
   "version": "3.7.6"
  }
 },
 "nbformat": 4,
 "nbformat_minor": 4
}
